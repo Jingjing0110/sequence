{
 "cells": [
  {
   "cell_type": "markdown",
   "id": "260183a8-24cc-4894-8b2b-efbe0a728152",
   "metadata": {},
   "source": [
    "# 1. Create file path and import packages"
   ]
  },
  {
   "cell_type": "code",
   "execution_count": 1,
   "id": "1abda43d-b9b7-43cf-8f2c-fd3032146a93",
   "metadata": {},
   "outputs": [
    {
     "data": {
      "text/plain": [
       "6812"
      ]
     },
     "execution_count": 1,
     "metadata": {},
     "output_type": "execute_result"
    }
   ],
   "source": [
    "from Bio import SeqIO\n",
    "\n",
    "#change filename as needed\n",
    "input_dir = \"./Input/\"\n",
    "filename = 'H5N1-04-25-2024'\n",
    "file = input_dir + filename + '.fasta'\n",
    "\n",
    "#extract all sequences in the .fasta file and put them into \"sequences\"\n",
    "sequences=[i for i in SeqIO.parse(file,'fasta')]\n",
    "\n",
    "#check the number of sequences\n",
    "len(sequences)"
   ]
  },
  {
   "cell_type": "markdown",
   "id": "65bd8db6-640c-43c7-93a8-13ce0c574cb1",
   "metadata": {},
   "source": [
    "# 2. Select sequences with conditions and extract them to a new file"
   ]
  },
  {
   "cell_type": "code",
   "execution_count": 2,
   "id": "ae8db11e-3104-41fd-ad45-92dd43da2805",
   "metadata": {},
   "outputs": [
    {
     "name": "stdout",
     "output_type": "stream",
     "text": [
      "['EPI_ISL_19241249 ', ' A/dairy cow/Colorado/24_017152-008/2024 ', ' A / H5N1 ', '  ', ' 2.3.4.4b ', ' 2024-06-11 ', ' NA']\n"
     ]
    },
    {
     "data": {
      "text/plain": [
       "' 2.3.4.4b '"
      ]
     },
     "execution_count": 2,
     "metadata": {},
     "output_type": "execute_result"
    }
   ],
   "source": [
    "#check the sequence description \n",
    "sequence_a = sequences[0]\n",
    "des = sequence_a.description\n",
    "\n",
    "#split on '|'\n",
    "splits = des.split('|')\n",
    "print(splits)\n",
    "\n",
    "#example: select one item in splitdes\n",
    "splits[4]"
   ]
  },
  {
   "cell_type": "code",
   "execution_count": 3,
   "id": "d0d2c44e-ba23-4f59-bda2-a45f454ca8a9",
   "metadata": {},
   "outputs": [],
   "source": [
    "#define a function to extract sequence based on sequence description\n",
    "#example: select Colorado strains\n",
    "#change if condition as needed\n",
    "\n",
    "selected_seq=[]\n",
    "\n",
    "for record in sequences:\n",
    "    des_temp = record.description\n",
    "    splits_temp = des_temp.split('|')\n",
    "    if 'Colorado' in splits_temp[1]:\n",
    "        selected_seq.append(record)"
   ]
  },
  {
   "cell_type": "code",
   "execution_count": 4,
   "id": "2f7527cd-0f10-4ea9-b1f0-d3cf870b3a39",
   "metadata": {},
   "outputs": [
    {
     "data": {
      "text/plain": [
       "2287"
      ]
     },
     "execution_count": 4,
     "metadata": {},
     "output_type": "execute_result"
    }
   ],
   "source": [
    "#check the length of selected sequences\n",
    "len(selected_seq)"
   ]
  },
  {
   "cell_type": "code",
   "execution_count": 5,
   "id": "6deb7a1d-d8f3-4b73-aa87-f4ab24f1dc9a",
   "metadata": {},
   "outputs": [
    {
     "data": {
      "text/plain": [
       "SeqRecord(seq=Seq('atgaatccaaatcaaaagataacaaccattggatcaatctgtatggtaattggg...tag'), id='EPI_ISL_19241249', name='EPI_ISL_19241249', description='EPI_ISL_19241249 | A/dairy cow/Colorado/24_017152-008/2024 | A / H5N1 |  | 2.3.4.4b | 2024-06-11 | NA', dbxrefs=[])"
      ]
     },
     "execution_count": 5,
     "metadata": {},
     "output_type": "execute_result"
    }
   ],
   "source": [
    "#check the first sequence of the selected sequences\n",
    "selected_seq[0]"
   ]
  },
  {
   "cell_type": "code",
   "execution_count": 6,
   "id": "44661cbf-0d33-4026-baba-deb6344ccc62",
   "metadata": {},
   "outputs": [
    {
     "data": {
      "text/plain": [
       "2287"
      ]
     },
     "execution_count": 6,
     "metadata": {},
     "output_type": "execute_result"
    }
   ],
   "source": [
    "#saving a sequence to an output file\n",
    "#change the output file name and directory as needed\n",
    "\n",
    "output_dir = \"./Output/\"\n",
    "output_path = output_dir + filename + '_Colorado' + '.fasta'\n",
    "\n",
    "SeqIO.write(selected_seq, output_path, 'fasta')"
   ]
  }
 ],
 "metadata": {
  "kernelspec": {
   "display_name": "Python 3 (ipykernel)",
   "language": "python",
   "name": "python3"
  },
  "language_info": {
   "codemirror_mode": {
    "name": "ipython",
    "version": 3
   },
   "file_extension": ".py",
   "mimetype": "text/x-python",
   "name": "python",
   "nbconvert_exporter": "python",
   "pygments_lexer": "ipython3",
   "version": "3.11.10"
  }
 },
 "nbformat": 4,
 "nbformat_minor": 5
}
