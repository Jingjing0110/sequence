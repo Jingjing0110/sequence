{
 "cells": [
  {
   "cell_type": "markdown",
   "id": "260183a8-24cc-4894-8b2b-efbe0a728152",
   "metadata": {},
   "source": [
    "# 1. Create file path and import packages"
   ]
  },
  {
   "cell_type": "code",
   "execution_count": 1,
   "id": "1abda43d-b9b7-43cf-8f2c-fd3032146a93",
   "metadata": {},
   "outputs": [
    {
     "data": {
      "text/plain": [
       "6812"
      ]
     },
     "execution_count": 1,
     "metadata": {},
     "output_type": "execute_result"
    }
   ],
   "source": [
    "from Bio import SeqIO\n",
    "\n",
    "#change filename as needed\n",
    "input_dir = \"./Input/\"\n",
    "filename = 'H5N1-04-25-2024'\n",
    "file = input_dir + filename + '.fasta'\n",
    "\n",
    "#extract all sequences in the .fasta file and put them into \"sequences\"\n",
    "sequences=[i for i in SeqIO.parse(file,'fasta')]\n",
    "\n",
    "#check the number of sequences\n",
    "len(sequences)"
   ]
  },
  {
   "cell_type": "markdown",
   "id": "78374fc4-6e89-4880-9995-94221be52433",
   "metadata": {},
   "source": [
    "# 2. Trim all sequences based on position in .fasta file"
   ]
  },
  {
   "cell_type": "code",
   "execution_count": 2,
   "id": "6730d2c0-da24-414d-b2e4-ec9fb2b83645",
   "metadata": {},
   "outputs": [],
   "source": [
    "trimmed_seq=[]\n",
    "\n",
    "#Define a function to trim sequences in sequences\n",
    "def trim_sequence(start_pos, end_pos):\n",
    "    for record in sequences:\n",
    "        trimmed_temp = record.seq[start_pos:end_pos]\n",
    "        record.seq = trimmed_temp\n",
    "        record.description += f\" trimmed to {start_pos}-{end_pos}\"\n",
    "        trimmed_seq.append(record)"
   ]
  },
  {
   "cell_type": "code",
   "execution_count": 3,
   "id": "c76ffaf2-a38d-4ed2-9252-a3aaaec0accf",
   "metadata": {},
   "outputs": [
    {
     "name": "stdout",
     "output_type": "stream",
     "text": [
      "ID: EPI_ISL_19241249\n",
      "Name: EPI_ISL_19241249\n",
      "Description: EPI_ISL_19241249 | A/dairy cow/Colorado/24_017152-008/2024 | A / H5N1 |  | 2.3.4.4b | 2024-06-11 | NA trimmed to 0-99\n",
      "Number of features: 0\n",
      "Seq('atgaatccaaatcaaaagataacaaccattggatcaatctgtatggtaattggg...tgg')\n"
     ]
    }
   ],
   "source": [
    "#example: select the first 100 nt of each \n",
    "trim_sequence(0,99)\n",
    "\n",
    "#check the number of sequences and the first sequence\n",
    "\n",
    "print(trimmed_seq[0])"
   ]
  },
  {
   "cell_type": "code",
   "execution_count": 4,
   "id": "3fe9e973-5462-476c-9fe0-4331193a53b0",
   "metadata": {},
   "outputs": [
    {
     "data": {
      "text/plain": [
       "6812"
      ]
     },
     "execution_count": 4,
     "metadata": {},
     "output_type": "execute_result"
    }
   ],
   "source": [
    "#write trimmed sequences to a new .fasta file\n",
    "#change the output file name and directory as needed\n",
    "\n",
    "output_dir = \"./Output/\"\n",
    "output_path = output_dir + filename + '_0-99' + '.fasta'\n",
    "\n",
    "SeqIO.write(trimmed_seq, output_path, 'fasta')"
   ]
  },
  {
   "cell_type": "code",
   "execution_count": null,
   "id": "13a5df60-694d-4123-8ef5-b1c6aed20065",
   "metadata": {},
   "outputs": [],
   "source": []
  }
 ],
 "metadata": {
  "kernelspec": {
   "display_name": "Python 3 (ipykernel)",
   "language": "python",
   "name": "python3"
  },
  "language_info": {
   "codemirror_mode": {
    "name": "ipython",
    "version": 3
   },
   "file_extension": ".py",
   "mimetype": "text/x-python",
   "name": "python",
   "nbconvert_exporter": "python",
   "pygments_lexer": "ipython3",
   "version": "3.11.10"
  }
 },
 "nbformat": 4,
 "nbformat_minor": 5
}
